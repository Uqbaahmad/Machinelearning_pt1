{
 "cells": [
  {
   "cell_type": "markdown",
   "metadata": {},
   "source": [
    "### Working with Numpy - for Mathematical Operation"
   ]
  },
  {
   "cell_type": "code",
   "execution_count": 26,
   "metadata": {},
   "outputs": [],
   "source": [
    "import numpy as np"
   ]
  },
  {
   "cell_type": "code",
   "execution_count": 27,
   "metadata": {},
   "outputs": [
    {
     "name": "stdout",
     "output_type": "stream",
     "text": [
      "[1 2 3 4 5]\n",
      "<class 'numpy.ndarray'>\n",
      "(5,)\n"
     ]
    }
   ],
   "source": [
    "a = np.array([1, 2, 3, 4, 5])\n",
    "print(a)\n",
    "print(type(a))\n",
    "print(a.shape)"
   ]
  },
  {
   "cell_type": "code",
   "execution_count": 28,
   "metadata": {},
   "outputs": [
    {
     "name": "stdout",
     "output_type": "stream",
     "text": [
      "[[1]\n",
      " [2]\n",
      " [3]\n",
      " [4]\n",
      " [5]]\n",
      "(5, 1)\n"
     ]
    }
   ],
   "source": [
    "b = np.array([[1], [2], [3], [4], [5]])\n",
    "print(b)\n",
    "print(b.shape)"
   ]
  },
  {
   "cell_type": "code",
   "execution_count": 29,
   "metadata": {},
   "outputs": [
    {
     "name": "stdout",
     "output_type": "stream",
     "text": [
      "[[1 2 3]\n",
      " [4 5 6]]\n",
      "(2, 3)\n",
      "5\n"
     ]
    }
   ],
   "source": [
    "c = np.array([[1, 2, 3], [4, 5, 6]])\n",
    "print(c)\n",
    "print(c.shape)\n",
    "print(c[1][1])             # which meanse the first element of first row"
   ]
  },
  {
   "cell_type": "code",
   "execution_count": 30,
   "metadata": {},
   "outputs": [
    {
     "name": "stdout",
     "output_type": "stream",
     "text": [
      "[[0. 0. 0.]\n",
      " [0. 0. 0.]\n",
      " [0. 0. 0.]]\n"
     ]
    }
   ],
   "source": [
    "# create Zeros, ones, custom, array\n",
    "a = np.zeros((3,3))\n",
    "print(a)"
   ]
  },
  {
   "cell_type": "code",
   "execution_count": 31,
   "metadata": {},
   "outputs": [
    {
     "name": "stdout",
     "output_type": "stream",
     "text": [
      "[2 3]\n"
     ]
    }
   ],
   "source": [
    "b = np.array((2, 3))\n",
    "print(b)"
   ]
  },
  {
   "cell_type": "code",
   "execution_count": 32,
   "metadata": {},
   "outputs": [
    {
     "name": "stdout",
     "output_type": "stream",
     "text": [
      "[[5 5]\n",
      " [5 5]\n",
      " [5 5]]\n"
     ]
    }
   ],
   "source": [
    "# Array for some constant\n",
    "c = np.full((3, 2), 5)\n",
    "print(c)"
   ]
  },
  {
   "cell_type": "code",
   "execution_count": 33,
   "metadata": {},
   "outputs": [
    {
     "name": "stdout",
     "output_type": "stream",
     "text": [
      "[[1. 0. 0. 0.]\n",
      " [0. 1. 0. 0.]\n",
      " [0. 0. 1. 0.]\n",
      " [0. 0. 0. 1.]]\n"
     ]
    }
   ],
   "source": [
    "# Identity metric - Size/Square Matrix\n",
    "d = np.eye(4)\n",
    "print(d)"
   ]
  },
  {
   "cell_type": "code",
   "execution_count": 34,
   "metadata": {},
   "outputs": [
    {
     "name": "stdout",
     "output_type": "stream",
     "text": [
      "[[0.11393137 0.03220231 0.11420599]\n",
      " [0.34292676 0.52065756 0.12962003]]\n"
     ]
    }
   ],
   "source": [
    "# Random Matrix\n",
    "randomMatrix = np.random.random((2, 3))\n",
    "print(randomMatrix)"
   ]
  },
  {
   "cell_type": "code",
   "execution_count": 35,
   "metadata": {},
   "outputs": [
    {
     "name": "stdout",
     "output_type": "stream",
     "text": [
      "[0.11420599 0.12962003]\n"
     ]
    }
   ],
   "source": [
    "# for indecing change\n",
    "# Slicing operation\n",
    "print(randomMatrix[:,2])"
   ]
  },
  {
   "cell_type": "code",
   "execution_count": 36,
   "metadata": {},
   "outputs": [],
   "source": [
    "# Slicing example- [2, 1 : 3] - 2 represent row , 1 is indecing and 3 is column "
   ]
  },
  {
   "cell_type": "code",
   "execution_count": 37,
   "metadata": {},
   "outputs": [
    {
     "name": "stdout",
     "output_type": "stream",
     "text": [
      "[[0.11393137 0.03220231 0.11420599]\n",
      " [0.34292676 1.         1.        ]]\n"
     ]
    }
   ],
   "source": [
    "randomMatrix[1, 1: ] = 1\n",
    "print(randomMatrix)"
   ]
  },
  {
   "cell_type": "code",
   "execution_count": 38,
   "metadata": {},
   "outputs": [
    {
     "name": "stdout",
     "output_type": "stream",
     "text": [
      "[[0. 0. 0.]\n",
      " [0. 0. 0.]\n",
      " [0. 0. 0.]]\n"
     ]
    }
   ],
   "source": [
    "# set some rows and columns with any values\n",
    "z = np.zeros((3, 3))\n",
    "print(z)"
   ]
  },
  {
   "cell_type": "code",
   "execution_count": 39,
   "metadata": {},
   "outputs": [
    {
     "name": "stdout",
     "output_type": "stream",
     "text": [
      "[[0. 0. 0.]\n",
      " [5. 5. 5.]\n",
      " [0. 0. 0.]]\n"
     ]
    }
   ],
   "source": [
    "# Suppose we have to make 1st row and 2nd column is 5\n",
    "z[1, :] = 5\n",
    "print(z)"
   ]
  },
  {
   "cell_type": "code",
   "execution_count": 40,
   "metadata": {},
   "outputs": [
    {
     "name": "stdout",
     "output_type": "stream",
     "text": [
      "[[0. 0. 7.]\n",
      " [5. 5. 7.]\n",
      " [0. 0. 7.]]\n"
     ]
    }
   ],
   "source": [
    "z[:,-1] = 7\n",
    "print(z)"
   ]
  },
  {
   "cell_type": "code",
   "execution_count": 41,
   "metadata": {},
   "outputs": [
    {
     "name": "stdout",
     "output_type": "stream",
     "text": [
      "[[0. 0. 7.]\n",
      " [5. 5. 7.]\n",
      " [0. 0. 7.]]\n"
     ]
    }
   ],
   "source": [
    "z[1, :] = 5\n",
    "z[:, -1] = 7\n",
    "print(z)"
   ]
  },
  {
   "cell_type": "code",
   "execution_count": 42,
   "metadata": {},
   "outputs": [
    {
     "name": "stdout",
     "output_type": "stream",
     "text": [
      "int64\n"
     ]
    }
   ],
   "source": [
    "# Datatype\n",
    "z = np.zeros((3,3), dtype=np.int64)\n",
    "print(z.dtype)"
   ]
  },
  {
   "cell_type": "markdown",
   "metadata": {},
   "source": [
    "#### Mathematical Operations"
   ]
  },
  {
   "cell_type": "code",
   "execution_count": 43,
   "metadata": {},
   "outputs": [
    {
     "name": "stdout",
     "output_type": "stream",
     "text": [
      "[[ 6  8]\n",
      " [10 12]]\n",
      "[[ 6  8]\n",
      " [10 12]]\n",
      "[[-4 -4]\n",
      " [-4 -4]]\n",
      "[[-4 -4]\n",
      " [-4 -4]]\n",
      "[[ 5 12]\n",
      " [21 32]]\n",
      "[[ 5 12]\n",
      " [21 32]]\n",
      "[[0.2        0.33333333]\n",
      " [0.42857143 0.5       ]]\n",
      "[[0.2        0.33333333]\n",
      " [0.42857143 0.5       ]]\n",
      "[[1.         1.41421356]\n",
      " [1.73205081 2.        ]]\n"
     ]
    }
   ],
   "source": [
    "x = np.array([[1, 2], [3, 4]])\n",
    "y = np.array([[5, 6], [7, 8]])\n",
    "\n",
    "# Element wise addition\n",
    "print(x + y)\n",
    "print(np.add(x, y))\n",
    "\n",
    "print(x - y)\n",
    "print(np.subtract(x, y))\n",
    "\n",
    "print(x * y)\n",
    "print(np.multiply(x, y))\n",
    "\n",
    "print(x / y)\n",
    "print(np.divide(x, y))\n",
    "print(np.sqrt(x))"
   ]
  },
  {
   "cell_type": "code",
   "execution_count": 44,
   "metadata": {},
   "outputs": [
    {
     "name": "stdout",
     "output_type": "stream",
     "text": [
      "[[1 2]\n",
      " [3 4]]\n",
      "[[5 6]\n",
      " [7 8]]\n",
      "[[19 22]\n",
      " [43 50]]\n",
      "[[19 22]\n",
      " [43 50]]\n"
     ]
    }
   ],
   "source": [
    "# Matrix Multiplication / Dot Products\n",
    "# print(x, y)\n",
    "print(x)\n",
    "print(y)\n",
    "print(x.dot(y))\n",
    "print(np.dot(x, y))                          # both line are same output"
   ]
  },
  {
   "cell_type": "code",
   "execution_count": 45,
   "metadata": {},
   "outputs": [
    {
     "name": "stdout",
     "output_type": "stream",
     "text": [
      "30\n"
     ]
    }
   ],
   "source": [
    "# Mathematical (Dot Products) of vectors- Scalar \n",
    "a = np.array([1, 2, 3, 4])\n",
    "b = np.array([1, 2, 3, 4])\n",
    "print(a.dot(b))"
   ]
  },
  {
   "cell_type": "code",
   "execution_count": 46,
   "metadata": {},
   "outputs": [
    {
     "name": "stdout",
     "output_type": "stream",
     "text": [
      "[1 2 3 4]\n",
      "10\n"
     ]
    }
   ],
   "source": [
    "print(a)\n",
    "print(sum(a))"
   ]
  },
  {
   "cell_type": "code",
   "execution_count": 47,
   "metadata": {},
   "outputs": [
    {
     "name": "stdout",
     "output_type": "stream",
     "text": [
      "[[1 2]\n",
      " [3 4]]\n",
      "[4 6]\n",
      "10\n",
      "[4 6]\n",
      "[3 7]\n"
     ]
    }
   ],
   "source": [
    "print(x)\n",
    "print(sum(x))\n",
    "print(np.sum(x))\n",
    "print(np.sum(x, axis=0))                      # axis = 0 (for row)\n",
    "print(np.sum(x, axis=1))                      # axis = 1 (for column)"
   ]
  },
  {
   "cell_type": "code",
   "execution_count": 48,
   "metadata": {},
   "outputs": [
    {
     "name": "stdout",
     "output_type": "stream",
     "text": [
      "[1 2 3 4]\n",
      "[ 1  4  9 16]\n"
     ]
    }
   ],
   "source": [
    "# Stacking of Arrays\n",
    "print(a)\n",
    "b = b**2\n",
    "print(b)"
   ]
  },
  {
   "cell_type": "code",
   "execution_count": 49,
   "metadata": {},
   "outputs": [],
   "source": [
    "# Combine two arrays in single arrays\n",
    "a = np.stack((a, b), axis=0)"
   ]
  },
  {
   "cell_type": "code",
   "execution_count": 50,
   "metadata": {},
   "outputs": [
    {
     "name": "stdout",
     "output_type": "stream",
     "text": [
      "[[ 1  2  3  4]\n",
      " [ 1  4  9 16]]\n"
     ]
    }
   ],
   "source": [
    "# Reshape numpy array\n",
    "print(a)"
   ]
  },
  {
   "cell_type": "code",
   "execution_count": 51,
   "metadata": {},
   "outputs": [
    {
     "name": "stdout",
     "output_type": "stream",
     "text": [
      "[[ 1  2]\n",
      " [ 3  4]\n",
      " [ 1  4]\n",
      " [ 9 16]]\n"
     ]
    }
   ],
   "source": [
    "# above output has 8 elements and suppose we have to change this shape as (4, 2)\n",
    "c = a.reshape((4, 2))\n",
    "print(c)"
   ]
  },
  {
   "cell_type": "code",
   "execution_count": 52,
   "metadata": {},
   "outputs": [
    {
     "name": "stdout",
     "output_type": "stream",
     "text": [
      "[[ 1]\n",
      " [ 2]\n",
      " [ 3]\n",
      " [ 4]\n",
      " [ 1]\n",
      " [ 4]\n",
      " [ 9]\n",
      " [16]]\n"
     ]
    }
   ],
   "source": [
    "c = a.reshape((8, 1))\n",
    "print(c)"
   ]
  },
  {
   "cell_type": "code",
   "execution_count": 53,
   "metadata": {},
   "outputs": [
    {
     "name": "stdout",
     "output_type": "stream",
     "text": [
      "[[ 1  2  3  4]\n",
      " [ 1  4  9 16]]\n"
     ]
    }
   ],
   "source": [
    "c = a.reshape((8,))\n",
    "print(a)"
   ]
  },
  {
   "cell_type": "code",
   "execution_count": 54,
   "metadata": {},
   "outputs": [
    {
     "name": "stdout",
     "output_type": "stream",
     "text": [
      "[[ 1  2  3  4]\n",
      " [ 1  4  9 16]]\n"
     ]
    }
   ],
   "source": [
    "c = c.reshape((-1, 4))\n",
    "print(c)"
   ]
  },
  {
   "cell_type": "markdown",
   "metadata": {},
   "source": [
    "### NUMPY RANDOM MODULE"
   ]
  },
  {
   "cell_type": "markdown",
   "metadata": {},
   "source": [
    "- rand : Random value in a given shape.\n",
    "- randn : Return a sample (or samples) from the \"standard nomral\" distribution.\n",
    "- randint : Return random integers from low (inclusive) to high (exclusive)\n",
    "- random : Return random floats in the half- open interval [0.0, 1.0)\n",
    "- choice : Generates a random sample from a given 1-D array.\n",
    "- Shuffle : Shuffles the contents of a sequence."
   ]
  },
  {
   "cell_type": "code",
   "execution_count": 55,
   "metadata": {},
   "outputs": [
    {
     "name": "stdout",
     "output_type": "stream",
     "text": [
      "[0 1 2 3 4 5 6 7 8 9]\n"
     ]
    }
   ],
   "source": [
    "# Suppose we want to generate an array from a given range\n",
    "a = np.arange(10)\n",
    "print(a)"
   ]
  },
  {
   "cell_type": "code",
   "execution_count": 56,
   "metadata": {},
   "outputs": [
    {
     "name": "stdout",
     "output_type": "stream",
     "text": [
      "[ 5  6  7  8  9 10 11 12 13 14]\n"
     ]
    }
   ],
   "source": [
    "a = np.arange(10) + 5            # means indecing start from 5            \n",
    "print(a)"
   ]
  },
  {
   "cell_type": "code",
   "execution_count": 57,
   "metadata": {},
   "outputs": [
    {
     "name": "stdout",
     "output_type": "stream",
     "text": [
      "[ 5  9 14 11 12 10 13  7  8  6]\n"
     ]
    }
   ],
   "source": [
    "# Shuffle array randomly\n",
    "np.random.shuffle(a)\n",
    "print(a)"
   ]
  },
  {
   "cell_type": "code",
   "execution_count": 58,
   "metadata": {},
   "outputs": [
    {
     "name": "stdout",
     "output_type": "stream",
     "text": [
      "[[0.20010957 0.15129063 0.04614228]\n",
      " [0.959263   0.33515729 0.18986066]]\n"
     ]
    }
   ],
   "source": [
    "a = np.random.rand(2, 3)\n",
    "print(a)"
   ]
  },
  {
   "cell_type": "code",
   "execution_count": 59,
   "metadata": {},
   "outputs": [
    {
     "name": "stdout",
     "output_type": "stream",
     "text": [
      "[[ 0.03664331  0.87741941 -0.61347173]\n",
      " [ 0.09116594  0.94161914 -0.01448012]]\n"
     ]
    }
   ],
   "source": [
    "# Returns values from a Standard Normal Distributions\n",
    "a = np.random.randn(2, 3)\n",
    "print(a)"
   ]
  },
  {
   "cell_type": "code",
   "execution_count": 60,
   "metadata": {},
   "outputs": [
    {
     "name": "stdout",
     "output_type": "stream",
     "text": [
      "[5 8]\n"
     ]
    }
   ],
   "source": [
    "a = np.random.randint(5, 10, 2)\n",
    "print(a)"
   ]
  },
  {
   "cell_type": "code",
   "execution_count": 61,
   "metadata": {},
   "outputs": [
    {
     "name": "stdout",
     "output_type": "stream",
     "text": [
      "3\n"
     ]
    }
   ],
   "source": [
    "# Randomly pick one element from a array\n",
    "element = np.random.choice([1, 4, 3, 2, 11, 27])\n",
    "print(element)"
   ]
  },
  {
   "cell_type": "code",
   "execution_count": 62,
   "metadata": {},
   "outputs": [
    {
     "name": "stdout",
     "output_type": "stream",
     "text": [
      "[5 8]\n"
     ]
    }
   ],
   "source": [
    "# Seed concept\n",
    "np.random.seed(1)\n",
    "np.random.shuffle(a)\n",
    "print(a)"
   ]
  },
  {
   "cell_type": "markdown",
   "metadata": {},
   "source": [
    "### Some more numpy functions - Statistics"
   ]
  },
  {
   "cell_type": "markdown",
   "metadata": {},
   "source": [
    "- min, max\n",
    "- mean\n",
    "- median\n",
    "- average\n",
    "- variance\n",
    "- standard deviation"
   ]
  },
  {
   "cell_type": "code",
   "execution_count": 63,
   "metadata": {},
   "outputs": [
    {
     "name": "stdout",
     "output_type": "stream",
     "text": [
      "[[1 2 3 4]\n",
      " [7 6 2 0]]\n"
     ]
    }
   ],
   "source": [
    "a = np.array([[1, 2, 3, 4], [7, 6, 2, 0]])\n",
    "print(a)"
   ]
  },
  {
   "cell_type": "code",
   "execution_count": 64,
   "metadata": {},
   "outputs": [
    {
     "name": "stdout",
     "output_type": "stream",
     "text": [
      "0\n",
      "[1 2 2 0]\n",
      "[4 7]\n"
     ]
    }
   ],
   "source": [
    "print(np.min(a))\n",
    "# Specify axis for the direction in case of multidim array\n",
    "print(np.min(a, axis=0))\n",
    "print(np.max(a, axis=1))"
   ]
  },
  {
   "cell_type": "code",
   "execution_count": 65,
   "metadata": {},
   "outputs": [
    {
     "name": "stdout",
     "output_type": "stream",
     "text": [
      "3.0\n",
      "3.0\n",
      "[4.  4.  2.5 2. ]\n",
      "[2.5  3.75]\n"
     ]
    }
   ],
   "source": [
    "b = np.array([1, 2, 3, 4, 5])\n",
    "m = sum(b)/5\n",
    "print(m)\n",
    "print(np.mean(b))\n",
    "print(np.mean(a, axis = 0))\n",
    "print(np.mean(a, axis = 1))"
   ]
  },
  {
   "cell_type": "code",
   "execution_count": 66,
   "metadata": {},
   "outputs": [
    {
     "name": "stdout",
     "output_type": "stream",
     "text": [
      "2.0\n"
     ]
    }
   ],
   "source": [
    "c = np.array([1, 5, 4, 2, 0])\n",
    "print(np.median(c))"
   ]
  },
  {
   "cell_type": "code",
   "execution_count": 67,
   "metadata": {},
   "outputs": [
    {
     "name": "stdout",
     "output_type": "stream",
     "text": [
      "2.4\n"
     ]
    }
   ],
   "source": [
    "# Mean vs Average (slide Difference)\n",
    "print(np.mean(c))"
   ]
  },
  {
   "cell_type": "code",
   "execution_count": 68,
   "metadata": {},
   "outputs": [
    {
     "name": "stdout",
     "output_type": "stream",
     "text": [
      "2.066666666666667\n"
     ]
    }
   ],
   "source": [
    "weight = np.array([1, 2, 3, 4, 5])\n",
    "print(np.average(c, weights= weight))"
   ]
  },
  {
   "cell_type": "code",
   "execution_count": 69,
   "metadata": {},
   "outputs": [
    {
     "name": "stdout",
     "output_type": "stream",
     "text": [
      "2.4\n"
     ]
    }
   ],
   "source": [
    "weight = np.array([1, 1, 1, 1, 1])\n",
    "print(np.average(c, weights= weight))"
   ]
  },
  {
   "cell_type": "code",
   "execution_count": 70,
   "metadata": {},
   "outputs": [
    {
     "name": "stdout",
     "output_type": "stream",
     "text": [
      "1.854723699099141\n"
     ]
    }
   ],
   "source": [
    "# Standard Deviation\n",
    "u = np.mean(c)\n",
    "mystd = np.sqrt(np.mean(abs(c-u)**2))\n",
    "print(mystd)"
   ]
  },
  {
   "cell_type": "code",
   "execution_count": 71,
   "metadata": {},
   "outputs": [
    {
     "name": "stdout",
     "output_type": "stream",
     "text": [
      "1.854723699099141\n"
     ]
    }
   ],
   "source": [
    "# In-built function\n",
    "dev = np.std(c)\n",
    "print(dev)"
   ]
  },
  {
   "cell_type": "code",
   "execution_count": 72,
   "metadata": {},
   "outputs": [
    {
     "name": "stdout",
     "output_type": "stream",
     "text": [
      "3.440000000000001\n",
      "3.4400000000000004\n"
     ]
    }
   ],
   "source": [
    "# Variance\n",
    "print(mystd**2)\n",
    "print(np.var(c))"
   ]
  }
 ],
 "metadata": {
  "kernelspec": {
   "display_name": "Python 3.9.12 ('base')",
   "language": "python",
   "name": "python3"
  },
  "language_info": {
   "codemirror_mode": {
    "name": "ipython",
    "version": 3
   },
   "file_extension": ".py",
   "mimetype": "text/x-python",
   "name": "python",
   "nbconvert_exporter": "python",
   "pygments_lexer": "ipython3",
   "version": "3.9.12"
  },
  "orig_nbformat": 4,
  "vscode": {
   "interpreter": {
    "hash": "3ad3bfea1ad530968443ed03280350e41462810dac752ccd75dba02a5d487875"
   }
  }
 },
 "nbformat": 4,
 "nbformat_minor": 2
}
